{
 "cells": [
  {
   "cell_type": "code",
   "execution_count": 8,
   "metadata": {},
   "outputs": [],
   "source": [
    "#Counter adında bir fonksiyon yaz. Arguman olarak böyle bir liste ile çağırdığımızda bize hangi \n",
    "#elemandan kaç tane var, gösteren bir dictionary doldursun.\n",
    "\n",
    "#Örnek\n",
    "#     l = [[\"a\",\"b\"] , [\"a\",\"c\",\"d\"] , [\"a\"] , [\"b\",\"d\"], \"a\"]\n",
    "\n",
    "#    counter(l)\n",
    "\n",
    "# {\"a\": 3, \"b\" : 2, \"c\" : 1, \"d\" : 2}"
   ]
  },
  {
   "cell_type": "code",
   "execution_count": 9,
   "metadata": {},
   "outputs": [],
   "source": [
    "List1 = [['a','b'], [\"a\",\"c\",\"d\"], [\"a\"], [\"b\",\"d\"]]"
   ]
  },
  {
   "cell_type": "code",
   "execution_count": 10,
   "metadata": {},
   "outputs": [],
   "source": [
    "def counter(List1):\n",
    "    outputDict = {}\n",
    "    \n",
    "    for inList in List1:\n",
    "        for v in inList:\n",
    "            \n",
    "            if v in outputDict:\n",
    "                outputDict[v] = outputDict[v] + 1\n",
    "            else:\n",
    "                  outputDict[v] = 1\n",
    "                    \n",
    "    return outputDict"
   ]
  },
  {
   "cell_type": "code",
   "execution_count": 11,
   "metadata": {},
   "outputs": [
    {
     "data": {
      "text/plain": [
       "{'a': 3, 'b': 2, 'c': 1, 'd': 2}"
      ]
     },
     "execution_count": 11,
     "metadata": {},
     "output_type": "execute_result"
    }
   ],
   "source": [
    "counter(List1)"
   ]
  },
  {
   "cell_type": "code",
   "execution_count": null,
   "metadata": {},
   "outputs": [],
   "source": []
  }
 ],
 "metadata": {
  "kernelspec": {
   "display_name": "Python 3",
   "language": "python",
   "name": "python3"
  },
  "language_info": {
   "codemirror_mode": {
    "name": "ipython",
    "version": 3
   },
   "file_extension": ".py",
   "mimetype": "text/x-python",
   "name": "python",
   "nbconvert_exporter": "python",
   "pygments_lexer": "ipython3",
   "version": "3.8.5"
  }
 },
 "nbformat": 4,
 "nbformat_minor": 2
}
