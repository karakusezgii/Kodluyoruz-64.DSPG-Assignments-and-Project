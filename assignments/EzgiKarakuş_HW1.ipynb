{
 "cells": [
  {
   "cell_type": "markdown",
   "metadata": {},
   "source": [
    "## **Question_1**\n",
    "\n",
    "Write a code that modifies the given matrix M (with 3 rows and 4 columns), by swapping the (whole) columns 0 and 1.\n",
    "\n",
    "M = [[11, 12, 13, 14], [21, 22, 23, 24], [31, 32, 33, 34]]\n",
    "\n",
    "The matrix M above should become the matrix below;\n",
    "\n",
    "M = [[12, 11, 13, 14], [22, 21, 23, 24], [32, 31, 33, 34]]"
   ]
  },
  {
   "cell_type": "code",
   "execution_count": 2,
   "metadata": {},
   "outputs": [],
   "source": [
    "import numpy as np"
   ]
  },
  {
   "cell_type": "code",
   "execution_count": 3,
   "metadata": {},
   "outputs": [
    {
     "name": "stdout",
     "output_type": "stream",
     "text": [
      "[[12, 11, 13, 14], [22, 21, 23, 24], [32, 31, 33, 34]]\n"
     ]
    }
   ],
   "source": [
    "M = [[11, 12, 13, 14], [21, 22, 23, 24], [31, 32, 33, 34]]\n",
    "\n",
    "for i in range(len(M)):\n",
    "    M[i][0],M[i][1]= M[i][1],M[i][0] \n",
    "print(M)"
   ]
  },
  {
   "cell_type": "markdown",
   "metadata": {},
   "source": [
    "## **Question_2**\n",
    "\n",
    "Find the maximal element of the matrix M and print the row number and column number of the maximal element as a tuple.\n",
    "\n",
    "M = [[0, 3, 2, 4], [2, 7, 5, 9], [6, 1, 2, 3]]\n",
    "\n",
    "The output of the code should be row number and column number of the maximal element as a tuple.\n",
    "(1,3)\n"
   ]
  },
  {
   "cell_type": "code",
   "execution_count": 13,
   "metadata": {},
   "outputs": [
    {
     "data": {
      "text/plain": [
       "(array([1], dtype=int64), array([3], dtype=int64))"
      ]
     },
     "execution_count": 13,
     "metadata": {},
     "output_type": "execute_result"
    }
   ],
   "source": [
    "## Find column and row that hold maximal element\n",
    "\n",
    "M= np.array = [[0, 3, 2, 4], [2, 7, 5, 9], [6, 1, 2, 3]]\n",
    "\n",
    "arr = np.where(M == np.max(M))\n",
    "arr"
   ]
  },
  {
   "cell_type": "code",
   "execution_count": 18,
   "metadata": {},
   "outputs": [
    {
     "name": "stdout",
     "output_type": "stream",
     "text": [
      "(1, 3)\n"
     ]
    }
   ],
   "source": [
    "## Solution\n",
    "\n",
    "maks = 0\n",
    "\n",
    "for row in range(3):\n",
    "    for col in range(4):\n",
    "        if M[row][col]>maks:\n",
    "            maks = M[row][col]\n",
    "            tup = (row,col)\n",
    "print(tup)"
   ]
  },
  {
   "cell_type": "markdown",
   "metadata": {},
   "source": [
    "### **Question_3**\n",
    "\n",
    "Given two lists of numbers, count how many unique numbers occur in both of them.\n",
    "\n",
    "For example, on input\n",
    "\n",
    "list_1 = [5, 3, 3, 10, 40]\n",
    "\n",
    "list_2 = [40, 3, 40, 1, 2]\n",
    "\n",
    "output must be 6"
   ]
  },
  {
   "cell_type": "code",
   "execution_count": 20,
   "metadata": {},
   "outputs": [
    {
     "name": "stdout",
     "output_type": "stream",
     "text": [
      "[5, 3, 3, 10, 40, 40, 3, 40, 1, 2]\n",
      "[1, 2, 3, 5, 40, 10]\n"
     ]
    },
    {
     "data": {
      "text/plain": [
       "6"
      ]
     },
     "execution_count": 20,
     "metadata": {},
     "output_type": "execute_result"
    }
   ],
   "source": [
    "## First Solution\n",
    "\n",
    "list_1 = [5,3,3,10,40]\n",
    "list_2 = [40,3,40,1,2]\n",
    "\n",
    "list_total = list_1 + list_2\n",
    "print(list_total)\n",
    "\n",
    "list_total = list(set(list_total))\n",
    "print(list_total)\n",
    "\n",
    "len(list_total)"
   ]
  },
  {
   "cell_type": "code",
   "execution_count": 31,
   "metadata": {},
   "outputs": [
    {
     "name": "stdout",
     "output_type": "stream",
     "text": [
      "[5, 40, 3, 1, 2, 10]\n",
      "6\n"
     ]
    }
   ],
   "source": [
    "## Second Solution with For Loop\n",
    "\n",
    "list_total = []\n",
    "\n",
    "for i in list_1:\n",
    "    if i in list_total:\n",
    "        del i\n",
    "    else:\n",
    "           list_total.append(i)\n",
    "            \n",
    "    for j in list_2:\n",
    "        if j in list_total:\n",
    "            del j\n",
    "        else:\n",
    "            list_total.append(j)\n",
    "\n",
    "print(list_total)\n",
    "print(len(list_total))        \n",
    "    "
   ]
  },
  {
   "cell_type": "markdown",
   "metadata": {},
   "source": [
    "### **Question_4**\n",
    "\n",
    "We have a dictionary containing the math grades and the student number of 5 students. Calculate the mean of the grades and then prints out the name of the students who are above and below that average(and if any print that are equals to the mean as well):\n",
    "\n",
    "For example if the grades are\n",
    "\n",
    "- Jane: 30\n",
    "\n",
    "- Pat: 40\n",
    "\n",
    "- Denis: 50\n",
    "\n",
    "- Max: 60\n",
    "\n",
    "- Lara: 70\n",
    "\n",
    "Then the mean is 50\n",
    "\n",
    "your program should print:\n",
    "\n",
    "*\"Grade(s) of Jane and Pat are below the average\"*\n",
    "\n",
    "*\"Grade(s) of Denis is equal to the mean\"*\n",
    "\n",
    "*\"Grade(s) of Max and Lara are above the average\"*\n",
    "\"\"\"\n",
    "\n",
    "# Solve this question using dictionary below\n",
    "students = {\"Jane\":{\"grade\":90,\"student_number\":4012}, \n",
    "          \"Pat\":{\"grade\":81,\"student_number\":4052},\n",
    "          \"Denis\":{\"grade\":70,\"student_number\":4089},\n",
    "          \"Max\":{\"grade\":72,\"student_number\":4322},\n",
    "          \"Lara\":{\"grade\":74,\"student_number\":4042}}"
   ]
  },
  {
   "cell_type": "code",
   "execution_count": 7,
   "metadata": {},
   "outputs": [],
   "source": [
    "students = {\"Jane\":{\"grade\":90,\"student_number\":4012}, \n",
    "            \"Pat\":{\"grade\":81,\"student_number\":4052}, \n",
    "            \"Denis\":{\"grade\":70,\"student_number\":4089}, \n",
    "            \"Max\":{\"grade\":72,\"student_number\":4322}, \n",
    "            \"Lara\":{\"grade\":74,\"student_number\":4042}}\n",
    "\n",
    "\n",
    "    \n",
    "#nested dictionary\n",
    "\n",
    "\n",
    "#for i in students.values():\n",
    " #   print(i)\n",
    "    \n",
    "   # if  grade < mean:\n",
    "    #    print(\"Grade(s) of {names} are below the mean\")\n"
   ]
  },
  {
   "cell_type": "code",
   "execution_count": 8,
   "metadata": {
    "scrolled": true
   },
   "outputs": [
    {
     "data": {
      "text/plain": [
       "{'Jane': {'grade': 90, 'student_number': 4012},\n",
       " 'Pat': {'grade': 81, 'student_number': 4052},\n",
       " 'Denis': {'grade': 70, 'student_number': 4089},\n",
       " 'Max': {'grade': 72, 'student_number': 4322},\n",
       " 'Lara': {'grade': 74, 'student_number': 4042}}"
      ]
     },
     "execution_count": 8,
     "metadata": {},
     "output_type": "execute_result"
    }
   ],
   "source": [
    "students"
   ]
  },
  {
   "cell_type": "code",
   "execution_count": 9,
   "metadata": {},
   "outputs": [
    {
     "name": "stdout",
     "output_type": "stream",
     "text": [
      "90\n",
      "81\n",
      "70\n",
      "72\n",
      "74\n"
     ]
    }
   ],
   "source": [
    "my_sum = 0\n",
    "for person in students:\n",
    "    print(students[person]['grade'])\n",
    "    \n"
   ]
  },
  {
   "cell_type": "code",
   "execution_count": 10,
   "metadata": {},
   "outputs": [
    {
     "name": "stdout",
     "output_type": "stream",
     "text": [
      "Jane\n",
      "Pat\n",
      "Denis\n",
      "Max\n",
      "Lara\n"
     ]
    }
   ],
   "source": [
    "for person in students:\n",
    "    print(person)"
   ]
  },
  {
   "cell_type": "code",
   "execution_count": 11,
   "metadata": {},
   "outputs": [
    {
     "name": "stdout",
     "output_type": "stream",
     "text": [
      "77.4\n"
     ]
    }
   ],
   "source": [
    "grades_sum = students[\"Jane\"][\"grade\"] + students[\"Pat\"][\"grade\"] +students[\"Denis\"][\"grade\"] + students[\"Max\"][\"grade\"] + students[\"Lara\"][\"grade\"]\n",
    "\n",
    "mean = grades_sum / len(students)\n",
    "print(mean) "
   ]
  },
  {
   "cell_type": "code",
   "execution_count": 12,
   "metadata": {},
   "outputs": [],
   "source": [
    "## my_average = (sum(students[person][\"grade\"]/len(students) for person in students))  "
   ]
  },
  {
   "cell_type": "code",
   "execution_count": 13,
   "metadata": {},
   "outputs": [],
   "source": [
    "same_list = []\n",
    "lower_list = []\n",
    "upper_list = []\n",
    "\n",
    "for i in students:\n",
    "    if ((students[i][\"grade\"]) > mean):\n",
    "        upper_list.append(i)\n",
    "    elif ((students[i][\"grade\"]) < mean):\n",
    "        lower_list.append(i)\n",
    "    else:\n",
    "        same_list.append(i)\n"
   ]
  },
  {
   "cell_type": "code",
   "execution_count": 14,
   "metadata": {
    "scrolled": true
   },
   "outputs": [
    {
     "data": {
      "text/plain": [
       "list"
      ]
     },
     "execution_count": 14,
     "metadata": {},
     "output_type": "execute_result"
    }
   ],
   "source": [
    "type(upper_list)"
   ]
  },
  {
   "cell_type": "code",
   "execution_count": 15,
   "metadata": {},
   "outputs": [
    {
     "data": {
      "text/plain": [
       "['Jane', 'Pat']"
      ]
     },
     "execution_count": 15,
     "metadata": {},
     "output_type": "execute_result"
    }
   ],
   "source": [
    "upper_list"
   ]
  },
  {
   "cell_type": "code",
   "execution_count": 16,
   "metadata": {
    "scrolled": true
   },
   "outputs": [
    {
     "data": {
      "text/plain": [
       "['Denis', 'Max', 'Lara']"
      ]
     },
     "execution_count": 16,
     "metadata": {},
     "output_type": "execute_result"
    }
   ],
   "source": [
    "lower_list"
   ]
  },
  {
   "cell_type": "code",
   "execution_count": 17,
   "metadata": {},
   "outputs": [
    {
     "data": {
      "text/plain": [
       "[]"
      ]
     },
     "execution_count": 17,
     "metadata": {},
     "output_type": "execute_result"
    }
   ],
   "source": [
    "same_list"
   ]
  },
  {
   "cell_type": "code",
   "execution_count": 23,
   "metadata": {
    "scrolled": true
   },
   "outputs": [
    {
     "name": "stdout",
     "output_type": "stream",
     "text": [
      "Grade(s) of  Jane and Pat are above the average\n",
      "Grade(s) of  Denis and Max and Lara are above the average\n"
     ]
    }
   ],
   "source": [
    "print(\"Grade(s) of \", ' and '.join(upper_list), \"are above the average\") \n",
    "print(\"Grade(s) of \", ' and '.join(lower_list), \"are above the average\")\n",
    "\n",
    "if (len(same_list))>0:\n",
    "       print(\"Grade(s) of \", ' and '.join(same_list), \"are above the average\")\n",
    "\n",
    "    "
   ]
  },
  {
   "cell_type": "markdown",
   "metadata": {},
   "source": [
    "## Question_5"
   ]
  },
  {
   "cell_type": "markdown",
   "metadata": {},
   "source": [
    "\"\"\"\n",
    "\n",
    "A theatre sells batches of 1 to 4 tickets per sale (if available). Initially there are 200 tickets. Write a Python program that repeatedly tells the user how many tickets are left, asks for how many tickets the user wants to buy, indicates minimum and maximum numbers to buy, and reads the user's input. This continues until all tickets have been sold. At the end, the program prints how many sales transactions have been performed. For example, we might have the following interaction:\n",
    "\n",
    "200 tickets remaining\n",
    "\n",
    "How many do you want to buy?\n",
    "\n",
    "Minimum 1, maximum 4\n",
    "\n",
    "3\n",
    "\n",
    "197 tickets remaining\n",
    "\n",
    "How many do you want to buy?\n",
    "\n",
    "Minimum 1, maximum 4\n",
    "\n",
    "4\n",
    "\n",
    "(...)\n",
    "\n",
    "2 tickets remaining\n",
    "\n",
    "How many do you want to buy?\n",
    "\n",
    "Minimum 1, maximum 2\n",
    "\n",
    "2\n",
    "\n",
    "86 sales transactions\n",
    "\n",
    "(You may assume that the user enters the data correctly, i.e., all values are integers between the current minimum and maximum numbers they may buy.) \n",
    "\"\"\""
   ]
  },
  {
   "cell_type": "code",
   "execution_count": null,
   "metadata": {
    "scrolled": true
   },
   "outputs": [],
   "source": [
    "tickets = 200\n",
    "remaining_tickets = tickets \n",
    "transaction_count = 0\n",
    "\n",
    "while(remaining_tickets > 3):\n",
    "    demand = input(\"How many do you want to buy?\\n Minimum 1, Maximum 4 \\n\")\n",
    "    if (int(demand) >0) and (int(demand) <5):\n",
    "        remaining_tickets -= int(demand)\n",
    "        print(demand)\n",
    "        print(remaining_tickets)\n",
    "    else:\n",
    "        print(\"you cannot buy more than four tickets!\")\n",
    "    \n",
    "    \n",
    "    if remaining_tickets == 3 :\n",
    "        demand = input(\"How many do you want to buy?\\n Minimum 1, Maximum 3 \\n\")\n",
    "        if (int(demand) >0) and (int(demand) <4):\n",
    "                remaining_tickets -= int(demand)\n",
    "                print(demand)\n",
    "                print(remaining_tickets)\n",
    "        else:\n",
    "             print(\"you cannot buy more than three tickets!\")\n",
    "\n",
    "    if remaining_tickets == 2 :\n",
    "        demand = input(\"How many do you want to buy?\\n Minimum 1, Maximum 2 \\n\")\n",
    "        \n",
    "        if (int(demand) >0) and (int(demand) <3):\n",
    "                remaining_tickets -= int(demand)\n",
    "                print(demand)\n",
    "                print(remaining_tickets)\n",
    "        else:\n",
    "             print(\"you cannot buy more than 2 tickets!\")\n",
    "        \n",
    "    if  remaining_tickets == 1 :\n",
    "        demand = input(\"How many do you want to buy?\\n You can buy only 1 ticket. \\n\")\n",
    "        \n",
    "        if (int(demand) >0) and (int(demand) <2):\n",
    "                remaining_tickets -= int(demand)\n",
    "                print(demand)\n",
    "                print(remaining_tickets)\n",
    "        else:\n",
    "            print(\"you cannot buy more than 1 tickets!\")\n",
    "        \n",
    "if remaining_tickets == 0 :\n",
    "    print(\"All tickets sold out !\")"
   ]
  },
  {
   "cell_type": "code",
   "execution_count": null,
   "metadata": {},
   "outputs": [],
   "source": []
  }
 ],
 "metadata": {
  "kernelspec": {
   "display_name": "Python 3",
   "language": "python",
   "name": "python3"
  },
  "language_info": {
   "codemirror_mode": {
    "name": "ipython",
    "version": 3
   },
   "file_extension": ".py",
   "mimetype": "text/x-python",
   "name": "python",
   "nbconvert_exporter": "python",
   "pygments_lexer": "ipython3",
   "version": "3.8.5"
  }
 },
 "nbformat": 4,
 "nbformat_minor": 2
}
